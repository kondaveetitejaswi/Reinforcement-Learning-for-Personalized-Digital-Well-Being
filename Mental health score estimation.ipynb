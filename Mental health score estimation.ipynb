{
 "cells": [
  {
   "cell_type": "code",
   "execution_count": 1,
   "metadata": {},
   "outputs": [],
   "source": [
    "import pandas as pd\n",
    "import numpy as np"
   ]
  },
  {
   "cell_type": "code",
   "execution_count": 2,
   "metadata": {},
   "outputs": [],
   "source": [
    "df = pd.read_csv(r'C:\\Users\\tejas\\Github projects\\RL - Mental health project\\Reinforcement-Learning-for-Personalized-Digital-Well-Being\\Structured survey data for RL implementation.csv')"
   ]
  },
  {
   "cell_type": "code",
   "execution_count": 3,
   "metadata": {},
   "outputs": [
    {
     "data": {
      "text/plain": [
       "(128, 460)"
      ]
     },
     "execution_count": 3,
     "metadata": {},
     "output_type": "execute_result"
    }
   ],
   "source": [
    "df.shape"
   ]
  },
  {
   "cell_type": "code",
   "execution_count": 4,
   "metadata": {},
   "outputs": [],
   "source": [
    "state_columns = [col for col in df.columns if col != \"Mental_Health_Score\"]"
   ]
  },
  {
   "cell_type": "code",
   "execution_count": 5,
   "metadata": {},
   "outputs": [],
   "source": [
    "states = df[state_columns].values"
   ]
  },
  {
   "cell_type": "markdown",
   "metadata": {},
   "source": [
    "### Mental Health score "
   ]
  },
  {
   "cell_type": "code",
   "execution_count": 6,
   "metadata": {},
   "outputs": [],
   "source": [
    "# assigning weights based on the importance \n",
    "emotional_weights = {\n",
    "    \"Happiness\" : 10, \n",
    "    \"Anxiety\": 3,\n",
    "    \"Jealousy\": 4,\n",
    "    \"Loneliness\": 5,\n",
    "    \"Inspiration\": 8\n",
    "}\n",
    "\n",
    "social_media_time_weight = 2\n",
    "\n",
    "tfidf_weights = 2\n",
    "\n",
    "time_of_use_weights = {\n",
    "    \"Morning\": 2,         # Positive: Starting the day with limited usage\n",
    "    \"Afternoon\": 8,       # Neutral\n",
    "    \"Evening\": 10,        # Negative: Could affect productivity\n",
    "    \"Late night\": 3     # Highly negative: Disrupts sleep\n",
    "}\n",
    "\n",
    "platform_weights = {\n",
    "    \"Instagram\": 4,      # Often linked to comparison and anxiety\n",
    "    \"Whatsapp\": 6,       # Mostly neutral, but addictive\n",
    "    \"Youtube\": 9,         # Can be educational or distracting\n",
    "    \"Twitter\": 5,        # Can expose users to negativity\n",
    "    \"Facebook\": 5,       # Has both positive and negative effects\n",
    "    \"LinkedIn\": 10,        # More career-oriented, positive\n",
    "    \"Reddit\": 7,         # Can be informative but also overwhelming\n",
    "    \"Snapchat\": 4,       # Short-lived content, FOMO-inducing\n",
    "    \"Discord\": 7          # Can be beneficial for communities\n",
    "}\n",
    "\n",
    "usage_pattern_weights = {\n",
    "    \"Watching videos\": 9,   # Can be educational\n",
    "    \"Messaging\": 7,        # Generally neutral, but can lead to distractions\n",
    "    \"Scrolling\": 2,        # Mindless scrolling is highly negative\n",
    "    \"Posting\": 5           # Can create pressure for validation\n",
    "}\n",
    "\n",
    "impact_weights = {\n",
    "    \"Has social media affected your sleep patterns?\": 8,\n",
    "    \"Do you feel distracted during studies or work due to social media usage?\": 10,\n",
    "    \"Do you feel a compulsive need to check your social media accounts frequently?\": 7,\n",
    "    \"Have you been exposed to harmful or triggering content on social media?\": 2\n",
    "}\n",
    "\n",
    "# New feature weight assignments\n",
    "additional_feature_weights = {\n",
    "    \"Has social media contributed to your personal growth or skill development\": 10,  # Positive effect\n",
    "    \"Do you feel pressire to maintain an ideal version of yourself on social media?\": 2,  # Negative effect\n",
    "    \"Are you aware of how social media algorithms influence your feed?\": 5,  # Can cause manipulation\n",
    "    \"Have your opinions on topics like politics, health or culture changed because of social media?\": 5,  # Misinformation risk\n",
    "    \"Do you think there should be restrictions or guidelines on social media usage for teenagers?\": 8  # Positive awareness\n",
    "}\n"
   ]
  },
  {
   "cell_type": "code",
   "execution_count": 7,
   "metadata": {},
   "outputs": [],
   "source": [
    "def calculate_mental_health_score(row):\n",
    "    \"\"\" Computes a well-being score based on emotions, social media use, negative effects, and open-ended responses. \"\"\"\n",
    "\n",
    "    # 1️⃣ Emotional Score (Happiness, Anxiety, etc.)\n",
    "    emotional_score = sum(row[feature] * weight for feature, weight in emotional_weights.items())\n",
    "\n",
    "    # 2️⃣ Social Media Time Impact (Morning, Night, etc.)\n",
    "    social_media_time_score = sum(row[feature] * weight for feature, weight in time_of_use_weights.items())\n",
    "\n",
    "    # 3️⃣ Social Media Platform Impact (Instagram, WhatsApp, etc.)\n",
    "    platform_score = sum(row[feature] * weight for feature, weight in platform_weights.items())\n",
    "\n",
    "    # 4️⃣ Social Media Usage Pattern Impact (Scrolling, Posting, Messaging, etc.)\n",
    "    usage_pattern_score = sum(row[feature] * weight for feature, weight in usage_pattern_weights.items())\n",
    "\n",
    "    # 5️⃣ Negative Impact of Social Media (e.g., sleep issues, distractions)\n",
    "    impact_score = sum(row[feature] * weight for feature, weight in impact_weights.items())\n",
    "\n",
    "    # 6️⃣ New Contributing Features (Personal Growth, Pressure, etc.)\n",
    "    additional_feature_score = sum(row[feature] * weight for feature, weight in additional_feature_weights.items())\n",
    "\n",
    "    # 7️⃣ Open-Ended Response Impact (TF-IDF)\n",
    "    tfidf_sum = row[[col for col in df.columns if \"Specify_\" in col]].sum() \n",
    "    tfidf_score = tfidf_sum * tfidf_weights if tfidf_sum > 0 else 0\n",
    "\n",
    "    # Final Mental Health Score Calculation\n",
    "    mhs = (emotional_score + social_media_time_score + platform_score +\n",
    "           usage_pattern_score + impact_score + additional_feature_score + tfidf_score)\n",
    "\n",
    "    return {\n",
    "        \"Emotional_Score\": emotional_score,\n",
    "        \"Social_Media_Time_Score\": social_media_time_score,\n",
    "        \"Platform_Score\": platform_score,\n",
    "        \"Usage_Pattern_Score\": usage_pattern_score,\n",
    "        \"Impact_Score\": impact_score,\n",
    "        \"Additional_Feature_Score\": additional_feature_score,\n",
    "        \"TFIDF_Score\": tfidf_score,\n",
    "        \"Mental_Health_Score\": mhs\n",
    "    }\n"
   ]
  },
  {
   "cell_type": "code",
   "execution_count": 8,
   "metadata": {},
   "outputs": [
    {
     "name": "stdout",
     "output_type": "stream",
     "text": [
      "                                   Mental_Health_Score\n",
      "0    {'Emotional_Score': 84.0, 'Social_Media_Time_S...\n",
      "1    {'Emotional_Score': 56.0, 'Social_Media_Time_S...\n",
      "2    {'Emotional_Score': 97.0, 'Social_Media_Time_S...\n",
      "3    {'Emotional_Score': 114.0, 'Social_Media_Time_...\n",
      "4    {'Emotional_Score': 87.0, 'Social_Media_Time_S...\n",
      "..                                                 ...\n",
      "123  {'Emotional_Score': 82.0, 'Social_Media_Time_S...\n",
      "124  {'Emotional_Score': 96.0, 'Social_Media_Time_S...\n",
      "125  {'Emotional_Score': 82.0, 'Social_Media_Time_S...\n",
      "126  {'Emotional_Score': 65.0, 'Social_Media_Time_S...\n",
      "127  {'Emotional_Score': 72.0, 'Social_Media_Time_S...\n",
      "\n",
      "[128 rows x 1 columns]\n"
     ]
    }
   ],
   "source": [
    "df[\"Mental_Health_Score\"] = df.apply(calculate_mental_health_score, axis=1)\n",
    "print(df[[\"Mental_Health_Score\"]])"
   ]
  },
  {
   "cell_type": "code",
   "execution_count": 9,
   "metadata": {},
   "outputs": [
    {
     "data": {
      "text/html": [
       "<div>\n",
       "<style scoped>\n",
       "    .dataframe tbody tr th:only-of-type {\n",
       "        vertical-align: middle;\n",
       "    }\n",
       "\n",
       "    .dataframe tbody tr th {\n",
       "        vertical-align: top;\n",
       "    }\n",
       "\n",
       "    .dataframe thead th {\n",
       "        text-align: right;\n",
       "    }\n",
       "</style>\n",
       "<table border=\"1\" class=\"dataframe\">\n",
       "  <thead>\n",
       "    <tr style=\"text-align: right;\">\n",
       "      <th></th>\n",
       "      <th>Emotional_Score</th>\n",
       "      <th>Social_Media_Time_Score</th>\n",
       "      <th>Platform_Score</th>\n",
       "      <th>Usage_Pattern_Score</th>\n",
       "      <th>Impact_Score</th>\n",
       "      <th>Additional_Feature_Score</th>\n",
       "      <th>TFIDF_Score</th>\n",
       "      <th>Mental_Health_Score</th>\n",
       "    </tr>\n",
       "  </thead>\n",
       "  <tbody>\n",
       "    <tr>\n",
       "      <th>0</th>\n",
       "      <td>84</td>\n",
       "      <td>13</td>\n",
       "      <td>20</td>\n",
       "      <td>18</td>\n",
       "      <td>27</td>\n",
       "      <td>38</td>\n",
       "      <td>0</td>\n",
       "      <td>200</td>\n",
       "    </tr>\n",
       "    <tr>\n",
       "      <th>1</th>\n",
       "      <td>56</td>\n",
       "      <td>13</td>\n",
       "      <td>10</td>\n",
       "      <td>2</td>\n",
       "      <td>0</td>\n",
       "      <td>35</td>\n",
       "      <td>0</td>\n",
       "      <td>116</td>\n",
       "    </tr>\n",
       "    <tr>\n",
       "      <th>2</th>\n",
       "      <td>97</td>\n",
       "      <td>23</td>\n",
       "      <td>19</td>\n",
       "      <td>18</td>\n",
       "      <td>61</td>\n",
       "      <td>34</td>\n",
       "      <td>0</td>\n",
       "      <td>252</td>\n",
       "    </tr>\n",
       "    <tr>\n",
       "      <th>3</th>\n",
       "      <td>114</td>\n",
       "      <td>13</td>\n",
       "      <td>19</td>\n",
       "      <td>11</td>\n",
       "      <td>54</td>\n",
       "      <td>63</td>\n",
       "      <td>0</td>\n",
       "      <td>274</td>\n",
       "    </tr>\n",
       "    <tr>\n",
       "      <th>4</th>\n",
       "      <td>87</td>\n",
       "      <td>13</td>\n",
       "      <td>19</td>\n",
       "      <td>18</td>\n",
       "      <td>25</td>\n",
       "      <td>10</td>\n",
       "      <td>0</td>\n",
       "      <td>172</td>\n",
       "    </tr>\n",
       "  </tbody>\n",
       "</table>\n",
       "</div>"
      ],
      "text/plain": [
       "   Emotional_Score  Social_Media_Time_Score  Platform_Score  \\\n",
       "0               84                       13              20   \n",
       "1               56                       13              10   \n",
       "2               97                       23              19   \n",
       "3              114                       13              19   \n",
       "4               87                       13              19   \n",
       "\n",
       "   Usage_Pattern_Score  Impact_Score  Additional_Feature_Score  TFIDF_Score  \\\n",
       "0                   18            27                        38            0   \n",
       "1                    2             0                        35            0   \n",
       "2                   18            61                        34            0   \n",
       "3                   11            54                        63            0   \n",
       "4                   18            25                        10            0   \n",
       "\n",
       "   Mental_Health_Score  \n",
       "0                  200  \n",
       "1                  116  \n",
       "2                  252  \n",
       "3                  274  \n",
       "4                  172  "
      ]
     },
     "execution_count": 9,
     "metadata": {},
     "output_type": "execute_result"
    }
   ],
   "source": [
    "# Apply function and convert the result into a separate DataFrame\n",
    "mhs_df = df.apply(calculate_mental_health_score, axis=1, result_type=\"expand\")\n",
    "\n",
    "# Display the first few rows of the new DataFrame\n",
    "mhs_df.head()\n"
   ]
  },
  {
   "cell_type": "code",
   "execution_count": 10,
   "metadata": {},
   "outputs": [
    {
     "name": "stdout",
     "output_type": "stream",
     "text": [
      "893\n",
      "1024\n"
     ]
    }
   ],
   "source": [
    "positive_values = []\n",
    "total_values = 0\n",
    "for column in mhs_df.columns:\n",
    "    for i in range(128):\n",
    "        if mhs_df[column][i] > 0:\n",
    "            positive_values.append(mhs_df[column][i])\n",
    "            total_values +=1 \n",
    "        else:\n",
    "            total_values +=1            \n",
    "\n",
    "print(len(positive_values))\n",
    "print(total_values)"
   ]
  },
  {
   "cell_type": "code",
   "execution_count": 11,
   "metadata": {},
   "outputs": [],
   "source": [
    "mhs_df.to_csv(\"Mental_Health_Score_Dataframe.csv\", index = False)"
   ]
  },
  {
   "cell_type": "code",
   "execution_count": null,
   "metadata": {},
   "outputs": [],
   "source": []
  }
 ],
 "metadata": {
  "kernelspec": {
   "display_name": "pytorch_env",
   "language": "python",
   "name": "python3"
  },
  "language_info": {
   "codemirror_mode": {
    "name": "ipython",
    "version": 3
   },
   "file_extension": ".py",
   "mimetype": "text/x-python",
   "name": "python",
   "nbconvert_exporter": "python",
   "pygments_lexer": "ipython3",
   "version": "3.13.2"
  }
 },
 "nbformat": 4,
 "nbformat_minor": 2
}
