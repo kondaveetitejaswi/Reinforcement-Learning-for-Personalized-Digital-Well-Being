{
 "cells": [
  {
   "cell_type": "code",
   "execution_count": 3,
   "metadata": {},
   "outputs": [
    {
     "name": "stdout",
     "output_type": "stream",
     "text": [
      "Collecting gym\n",
      "  Using cached gym-0.26.2.tar.gz (721 kB)\n",
      "  Installing build dependencies: started\n",
      "  Installing build dependencies: finished with status 'done'\n",
      "  Getting requirements to build wheel: started\n",
      "  Getting requirements to build wheel: finished with status 'done'\n",
      "  Preparing metadata (pyproject.toml): started\n",
      "  Preparing metadata (pyproject.toml): finished with status 'done'\n",
      "Requirement already satisfied: numpy>=1.18.0 in c:\\users\\tejas\\anaconda3\\anaconda\\envs\\pytorch_env\\lib\\site-packages (from gym) (2.2.3)\n",
      "Collecting cloudpickle>=1.2.0 (from gym)\n",
      "  Using cached cloudpickle-3.1.1-py3-none-any.whl.metadata (7.1 kB)\n",
      "Collecting gym_notices>=0.0.4 (from gym)\n",
      "  Using cached gym_notices-0.0.8-py3-none-any.whl.metadata (1.0 kB)\n",
      "Using cached cloudpickle-3.1.1-py3-none-any.whl (20 kB)\n",
      "Using cached gym_notices-0.0.8-py3-none-any.whl (3.0 kB)\n",
      "Building wheels for collected packages: gym\n",
      "  Building wheel for gym (pyproject.toml): started\n",
      "  Building wheel for gym (pyproject.toml): finished with status 'done'\n",
      "  Created wheel for gym: filename=gym-0.26.2-py3-none-any.whl size=827704 sha256=509d600336856bae4f96e16f3369f823ae48f48d2ac5a9f82b05885fb74cceb7\n",
      "  Stored in directory: c:\\users\\tejas\\appdata\\local\\pip\\cache\\wheels\\1d\\34\\c6\\856a1e1eff47d8f18545c833b6138ae1e9f53c7de9bcc5f31d\n",
      "Successfully built gym\n",
      "Installing collected packages: gym_notices, cloudpickle, gym\n",
      "Successfully installed cloudpickle-3.1.1 gym-0.26.2 gym_notices-0.0.8\n"
     ]
    }
   ],
   "source": [
    "# !pip install gym"
   ]
  },
  {
   "cell_type": "code",
   "execution_count": 5,
   "metadata": {},
   "outputs": [],
   "source": [
    "import gym\n",
    "import numpy as np\n",
    "import random\n",
    "from gym import spaces"
   ]
  },
  {
   "cell_type": "code",
   "execution_count": null,
   "metadata": {},
   "outputs": [],
   "source": [
    "class MentalHealthEnv(gym.Env):\n",
    "    def __init__(self, df):\n",
    "        super(MentalHealthEnv, self).__init__()\n",
    "\n",
    "        #loading the dataset\n",
    "        self.df = df.copy()\n",
    "        self.current_index = 0\n",
    "\n",
    "\n",
    "        #define state: 7 mental health scores (ranging between 0 to 300)\n",
    "        self.observation_space = spaces.Box(low = 0, high = 300, shape = (7,), dtype = np.float32)\n",
    "\n",
    "        # defining action space\n",
    "        self.actions = [\n",
    "            \"Engage in Outdoor activities\",\n",
    "            \"Reduce the social media usage\",\n",
    "            \"Watch educational videos\",\n",
    "            \"Increase mindfulness practicess like yoga\",\n",
    "            \"Interact with positive communities\",\n",
    "            \"Avoid stress-inducing content\",\n",
    "            \"Follow a structured daily routine\"\n",
    "        ]\n",
    "\n",
    "        self.action_space = spaces.Discrete(len(self.actions))\n",
    "\n",
    "        #initiating state: random values between 50 and 250 (to avoid zero-starting issues)\n",
    "        self.state = np.random.uniform(low = 50, high = 250, size = (7,))\n",
    "\n",
    "        # define action effects (each action affects specific scores)\n",
    "        self.action_effects = {\n",
    "            \"Engage in Outdoor activities\": np.array([10, 5, 0, 8, -5, 7, 0]),\n",
    "            \"Reduce the social media usage\": np.array([5, -15, 0, 0, 10, 0, 0]),\n",
    "            \"Watch educational videos\": np.array([5, 0, 15, 7, -3, 10, 0]),\n",
    "            \"Increase mindfulness practicess like yoga\": np.array([12, 0, 0, 5, -8, 15, 0]),\n",
    "            \"Interact with positive communities\": np.array([6, 0, -8, 0, 12, 0, 0]),\n",
    "            \"Avoid stress-inducing content\": np.array([6, 0, -8, 0, 12, 0, 0]),\n",
    "            \"Follow a structured daily routine\": np.array([10, 0, 0, 0, 7, 8, 0])\n",
    "        }\n",
    "        self.state = self.get_state_from_df()\n",
    "\n",
    "\n",
    "    def get_state_from_df(self):\n",
    "        # extract the initial state from the dataframe based on the current index\n",
    "        row = self.df.iloc[self.current_index]\n",
    "        return np.array(row[:-1])\n",
    "    \n",
    "    def step(self, action):\n",
    "        #apply an action and update mental health scores\n",
    "\n",
    "        self.state = np.clip(self.state)\n",
    "\n",
    "\n",
    "\n",
    "\n",
    "\n"
   ]
  }
 ],
 "metadata": {
  "kernelspec": {
   "display_name": "pytorch_env",
   "language": "python",
   "name": "python3"
  },
  "language_info": {
   "codemirror_mode": {
    "name": "ipython",
    "version": 3
   },
   "file_extension": ".py",
   "mimetype": "text/x-python",
   "name": "python",
   "nbconvert_exporter": "python",
   "pygments_lexer": "ipython3",
   "version": "3.13.2"
  }
 },
 "nbformat": 4,
 "nbformat_minor": 2
}
